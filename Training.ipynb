{
 "cells": [
  {
   "cell_type": "code",
   "execution_count": 1,
   "metadata": {},
   "outputs": [],
   "source": [
    "import tensorflow"
   ]
  },
  {
   "cell_type": "code",
   "execution_count": 2,
   "metadata": {},
   "outputs": [
    {
     "name": "stderr",
     "output_type": "stream",
     "text": [
      "Using TensorFlow backend.\n"
     ]
    }
   ],
   "source": [
    "import keras\n",
    "import argparse\n",
    "import imgaug"
   ]
  },
  {
   "cell_type": "code",
   "execution_count": 3,
   "metadata": {},
   "outputs": [],
   "source": [
    "#import custom\n",
    "import mrcnn.model as modellib\n",
    "from custom import CustomConfig, CustomDataset, train\n",
    "config= CustomConfig()\n",
    "import os\n",
    "# Root directory of the project\n",
    "ROOT_DIR = os.path.abspath(\"../../mk5n2/Mask_RCNN/complex/\")\n",
    "MODEL_DIR = os.path.join(ROOT_DIR, \"logs\")"
   ]
  },
  {
   "cell_type": "code",
   "execution_count": null,
   "metadata": {},
   "outputs": [],
   "source": [
    "print(ROOT_DIR)"
   ]
  },
  {
   "cell_type": "code",
   "execution_count": 4,
   "metadata": {},
   "outputs": [],
   "source": [
    "# Create model in training mode\n",
    "model = modellib.MaskRCNN(mode=\"training\", config=config,\n",
    "                          model_dir=MODEL_DIR)"
   ]
  },
  {
   "cell_type": "code",
   "execution_count": null,
   "metadata": {},
   "outputs": [],
   "source": [
    "#Weight of resnet101 will not work without excluding few layers\n",
    "Custom_WEIGHTS_PATH = 'C:/Users/mk5n2/Mask_RCNN/logs/roi20190405T2353_2nd_ita_partial_sup/mask_rcnn_roi_0200.h5'\n",
    "model.load_weights(Custom_WEIGHTS_PATH, by_name=True)\n"
   ]
  },
  {
   "cell_type": "code",
   "execution_count": 5,
   "metadata": {},
   "outputs": [],
   "source": [
    "COCO_WEIGHTS_PATH = 'C:/Users/mk5n2/Mask_RCNN/Archive_weight/mask_rcnn_coco.h5'\n",
    "model.load_weights(COCO_WEIGHTS_PATH, by_name=True,\n",
    "                       exclude=[\"mrcnn_class_logits\", \"mrcnn_bbox_fc\", \n",
    "                                \"mrcnn_bbox\", \"mrcnn_mask\"])"
   ]
  },
  {
   "cell_type": "code",
   "execution_count": null,
   "metadata": {},
   "outputs": [],
   "source": [
    "# Which weights to start with?\n",
    "init_with = \"coco\"  # imagenet, coco, or last\n",
    "# Path to trained weights file\n",
    "# COCO_WEIGHTS_PATH = os.path.join(ROOT_DIR, \"mask_rcnn_coco.h5\")\n",
    "COCO_WEIGHTS_PATH = 'C:/Users/mk5n2/Mask_RCNN/logs/roi20190114T1452/mask_rcnn_roi_0015.h5'\n",
    "\n",
    "# model.load_weights(COCO_WEIGHTS_PATH, by_name=True)\n",
    "\n",
    "if init_with == \"imagenet\":\n",
    "    model.load_weights(model.get_imagenet_weights(), by_name=True)\n",
    "elif init_with == \"coco\":\n",
    "    # Load weights trained on MS COCO, but skip layers that\n",
    "    # are different due to the different number of classes\n",
    "    # See README for instructions to download the COCO weights\n",
    "    model.load_weights(COCO_WEIGHTS_PATH, by_name=True,\n",
    "                       exclude=[\"mrcnn_class_logits\", \"mrcnn_bbox_fc\", \n",
    "                                \"mrcnn_bbox\", \"mrcnn_mask\"])\n",
    "# elif init_with == \"last\":\n",
    "#     # Load the last model you trained and continue training\n",
    "# model.load_weights(model.find_last(), by_name=True)\n",
    "\n"
   ]
  },
  {
   "cell_type": "code",
   "execution_count": null,
   "metadata": {},
   "outputs": [],
   "source": [
    "model.load_weights(model.find_last(), by_name=True)"
   ]
  },
  {
   "cell_type": "code",
   "execution_count": 6,
   "metadata": {
    "scrolled": true
   },
   "outputs": [
    {
     "name": "stdout",
     "output_type": "stream",
     "text": [
      "Training network heads\n",
      "\n",
      "Starting at epoch 0. LR=0.001\n",
      "\n",
      "Checkpoint Path: C:\\Users\\mk5n2\\mk5n2\\Mask_RCNN\\complex\\logs\\roi20190505T1646\\mask_rcnn_roi_{epoch:04d}.h5\n",
      "Selecting layers to train\n",
      "fpn_c5p5               (Conv2D)\n",
      "fpn_c4p4               (Conv2D)\n",
      "fpn_c3p3               (Conv2D)\n",
      "fpn_c2p2               (Conv2D)\n",
      "fpn_p5                 (Conv2D)\n",
      "fpn_p2                 (Conv2D)\n",
      "fpn_p3                 (Conv2D)\n",
      "fpn_p4                 (Conv2D)\n",
      "In model:  rpn_model\n",
      "    rpn_conv_shared        (Conv2D)\n",
      "    rpn_class_raw          (Conv2D)\n",
      "    rpn_bbox_pred          (Conv2D)\n",
      "mrcnn_mask_conv1       (TimeDistributed)\n",
      "mrcnn_mask_bn1         (TimeDistributed)\n",
      "mrcnn_mask_conv2       (TimeDistributed)\n",
      "mrcnn_mask_bn2         (TimeDistributed)\n",
      "mrcnn_class_conv1      (TimeDistributed)\n",
      "mrcnn_class_bn1        (TimeDistributed)\n",
      "mrcnn_mask_conv3       (TimeDistributed)\n",
      "mrcnn_mask_bn3         (TimeDistributed)\n",
      "mrcnn_class_conv2      (TimeDistributed)\n",
      "mrcnn_class_bn2        (TimeDistributed)\n",
      "mrcnn_mask_conv4       (TimeDistributed)\n",
      "mrcnn_mask_bn4         (TimeDistributed)\n",
      "mrcnn_bbox_fc          (TimeDistributed)\n",
      "mrcnn_mask_deconv      (TimeDistributed)\n",
      "mrcnn_class_logits     (TimeDistributed)\n",
      "mrcnn_mask             (TimeDistributed)\n"
     ]
    },
    {
     "name": "stderr",
     "output_type": "stream",
     "text": [
      "C:\\Users\\mk5n2\\AppData\\Roaming\\Python\\Python36\\site-packages\\tensorflow\\python\\ops\\gradients_impl.py:108: UserWarning: Converting sparse IndexedSlices to a dense Tensor of unknown shape. This may consume a large amount of memory.\n",
      "  \"Converting sparse IndexedSlices to a dense Tensor of unknown shape. \"\n"
     ]
    },
    {
     "name": "stdout",
     "output_type": "stream",
     "text": [
      "Epoch 1/15\n",
      "100/100 [==============================] - 215s 2s/step - loss: 0.8599 - rpn_class_loss: 0.0158 - rpn_bbox_loss: 0.1996 - mrcnn_class_loss: 0.0582 - mrcnn_bbox_loss: 0.2504 - mrcnn_mask_loss: 0.3360 - val_loss: 0.5383 - val_rpn_class_loss: 0.0087 - val_rpn_bbox_loss: 0.1847 - val_mrcnn_class_loss: 0.0137 - val_mrcnn_bbox_loss: 0.0898 - val_mrcnn_mask_loss: 0.2414\n",
      "Epoch 2/15\n",
      "100/100 [==============================] - 197s 2s/step - loss: 0.2038 - rpn_class_loss: 0.0055 - rpn_bbox_loss: 0.0067 - mrcnn_class_loss: 0.0093 - mrcnn_bbox_loss: 0.0400 - mrcnn_mask_loss: 0.1424 - val_loss: 0.4591 - val_rpn_class_loss: 0.0047 - val_rpn_bbox_loss: 0.1562 - val_mrcnn_class_loss: 0.0113 - val_mrcnn_bbox_loss: 0.1083 - val_mrcnn_mask_loss: 0.1785\n",
      "Epoch 3/15\n",
      "100/100 [==============================] - 198s 2s/step - loss: 0.1328 - rpn_class_loss: 0.0027 - rpn_bbox_loss: 0.0033 - mrcnn_class_loss: 0.0059 - mrcnn_bbox_loss: 0.0280 - mrcnn_mask_loss: 0.0929 - val_loss: 0.4374 - val_rpn_class_loss: 0.0031 - val_rpn_bbox_loss: 0.1447 - val_mrcnn_class_loss: 0.0089 - val_mrcnn_bbox_loss: 0.0764 - val_mrcnn_mask_loss: 0.2043\n",
      "Epoch 4/15\n",
      "100/100 [==============================] - 200s 2s/step - loss: 0.0957 - rpn_class_loss: 0.0020 - rpn_bbox_loss: 0.0018 - mrcnn_class_loss: 0.0049 - mrcnn_bbox_loss: 0.0130 - mrcnn_mask_loss: 0.0741 - val_loss: 0.5257 - val_rpn_class_loss: 0.0025 - val_rpn_bbox_loss: 0.1573 - val_mrcnn_class_loss: 0.0113 - val_mrcnn_bbox_loss: 0.1220 - val_mrcnn_mask_loss: 0.2326\n",
      "Epoch 5/15\n",
      "100/100 [==============================] - 202s 2s/step - loss: 0.0948 - rpn_class_loss: 0.0014 - rpn_bbox_loss: 0.0030 - mrcnn_class_loss: 0.0047 - mrcnn_bbox_loss: 0.0151 - mrcnn_mask_loss: 0.0706 - val_loss: 0.4686 - val_rpn_class_loss: 0.0021 - val_rpn_bbox_loss: 0.1560 - val_mrcnn_class_loss: 0.0107 - val_mrcnn_bbox_loss: 0.0715 - val_mrcnn_mask_loss: 0.2282\n",
      "Epoch 6/15\n",
      "100/100 [==============================] - 204s 2s/step - loss: 0.0960 - rpn_class_loss: 9.6084e-04 - rpn_bbox_loss: 0.0061 - mrcnn_class_loss: 0.0043 - mrcnn_bbox_loss: 0.0205 - mrcnn_mask_loss: 0.0641 - val_loss: 0.5359 - val_rpn_class_loss: 0.0018 - val_rpn_bbox_loss: 0.1420 - val_mrcnn_class_loss: 0.0118 - val_mrcnn_bbox_loss: 0.0924 - val_mrcnn_mask_loss: 0.2879\n",
      "Epoch 7/15\n",
      "100/100 [==============================] - 205s 2s/step - loss: 0.0695 - rpn_class_loss: 9.7233e-04 - rpn_bbox_loss: 0.0016 - mrcnn_class_loss: 0.0043 - mrcnn_bbox_loss: 0.0067 - mrcnn_mask_loss: 0.0559 - val_loss: 0.5659 - val_rpn_class_loss: 0.0019 - val_rpn_bbox_loss: 0.1489 - val_mrcnn_class_loss: 0.0219 - val_mrcnn_bbox_loss: 0.1175 - val_mrcnn_mask_loss: 0.2757\n",
      "Epoch 8/15\n",
      "100/100 [==============================] - 205s 2s/step - loss: 0.0718 - rpn_class_loss: 8.4940e-04 - rpn_bbox_loss: 0.0022 - mrcnn_class_loss: 0.0036 - mrcnn_bbox_loss: 0.0092 - mrcnn_mask_loss: 0.0559 - val_loss: 0.6061 - val_rpn_class_loss: 0.0016 - val_rpn_bbox_loss: 0.1459 - val_mrcnn_class_loss: 0.0122 - val_mrcnn_bbox_loss: 0.1483 - val_mrcnn_mask_loss: 0.2981\n",
      "Epoch 9/15\n",
      "100/100 [==============================] - 204s 2s/step - loss: 0.0637 - rpn_class_loss: 7.2134e-04 - rpn_bbox_loss: 0.0021 - mrcnn_class_loss: 0.0034 - mrcnn_bbox_loss: 0.0089 - mrcnn_mask_loss: 0.0485 - val_loss: 0.6612 - val_rpn_class_loss: 0.0016 - val_rpn_bbox_loss: 0.1423 - val_mrcnn_class_loss: 0.0165 - val_mrcnn_bbox_loss: 0.1345 - val_mrcnn_mask_loss: 0.3663\n",
      "Epoch 10/15\n",
      "100/100 [==============================] - 202s 2s/step - loss: 0.0573 - rpn_class_loss: 8.0178e-04 - rpn_bbox_loss: 0.0021 - mrcnn_class_loss: 0.0026 - mrcnn_bbox_loss: 0.0062 - mrcnn_mask_loss: 0.0457 - val_loss: 0.6440 - val_rpn_class_loss: 0.0017 - val_rpn_bbox_loss: 0.1457 - val_mrcnn_class_loss: 0.0264 - val_mrcnn_bbox_loss: 0.1044 - val_mrcnn_mask_loss: 0.3658\n",
      "Epoch 11/15\n",
      "100/100 [==============================] - 202s 2s/step - loss: 0.0513 - rpn_class_loss: 5.7916e-04 - rpn_bbox_loss: 0.0017 - mrcnn_class_loss: 0.0026 - mrcnn_bbox_loss: 0.0042 - mrcnn_mask_loss: 0.0422 - val_loss: 0.6457 - val_rpn_class_loss: 0.0017 - val_rpn_bbox_loss: 0.1436 - val_mrcnn_class_loss: 0.0191 - val_mrcnn_bbox_loss: 0.1214 - val_mrcnn_mask_loss: 0.3599\n",
      "Epoch 12/15\n",
      "100/100 [==============================] - 201s 2s/step - loss: 0.0443 - rpn_class_loss: 4.3692e-04 - rpn_bbox_loss: 4.9114e-04 - mrcnn_class_loss: 0.0024 - mrcnn_bbox_loss: 0.0018 - mrcnn_mask_loss: 0.0392 - val_loss: 0.6650 - val_rpn_class_loss: 0.0015 - val_rpn_bbox_loss: 0.1461 - val_mrcnn_class_loss: 0.0249 - val_mrcnn_bbox_loss: 0.1025 - val_mrcnn_mask_loss: 0.3901\n",
      "Epoch 13/15\n",
      "100/100 [==============================] - 198s 2s/step - loss: 0.0427 - rpn_class_loss: 4.1217e-04 - rpn_bbox_loss: 6.2473e-04 - mrcnn_class_loss: 0.0017 - mrcnn_bbox_loss: 0.0024 - mrcnn_mask_loss: 0.0376 - val_loss: 0.7117 - val_rpn_class_loss: 0.0015 - val_rpn_bbox_loss: 0.1459 - val_mrcnn_class_loss: 0.0322 - val_mrcnn_bbox_loss: 0.1546 - val_mrcnn_mask_loss: 0.3776\n",
      "Epoch 14/15\n",
      "100/100 [==============================] - 197s 2s/step - loss: 0.0366 - rpn_class_loss: 3.9339e-04 - rpn_bbox_loss: 3.0466e-04 - mrcnn_class_loss: 0.0016 - mrcnn_bbox_loss: 9.0859e-04 - mrcnn_mask_loss: 0.0334 - val_loss: 0.7137 - val_rpn_class_loss: 0.0014 - val_rpn_bbox_loss: 0.1484 - val_mrcnn_class_loss: 0.0260 - val_mrcnn_bbox_loss: 0.1279 - val_mrcnn_mask_loss: 0.4101\n",
      "Epoch 15/15\n",
      "100/100 [==============================] - 198s 2s/step - loss: 0.0412 - rpn_class_loss: 3.5221e-04 - rpn_bbox_loss: 0.0012 - mrcnn_class_loss: 0.0020 - mrcnn_bbox_loss: 0.0030 - mrcnn_mask_loss: 0.0347 - val_loss: 0.6604 - val_rpn_class_loss: 0.0012 - val_rpn_bbox_loss: 0.1427 - val_mrcnn_class_loss: 0.0247 - val_mrcnn_bbox_loss: 0.1082 - val_mrcnn_mask_loss: 0.3836\n"
     ]
    }
   ],
   "source": [
    "train(model)"
   ]
  },
  {
   "cell_type": "code",
   "execution_count": null,
   "metadata": {},
   "outputs": [],
   "source": [
    "\n",
    "# Training dataset.\n",
    "dataset_train = CustomDataset()\n",
    "dataset_train.load_custom(args.dataset, \"train\")\n",
    "dataset_train.prepare()\n",
    "\n",
    "# Validation dataset\n",
    "dataset_val = CustomDataset()\n",
    "#dataset_val.load_custom(args.dataset, \"val\")\n",
    "dataset_val.prepare()"
   ]
  },
  {
   "cell_type": "code",
   "execution_count": null,
   "metadata": {},
   "outputs": [],
   "source": [
    "# Train the head branches\n",
    "# Passing layers=\"heads\" freezes all layers except the head\n",
    "# layers. You can also pass a regular expression to select\n",
    "# which layers to train by name pattern.\n",
    "model.train(dataset_train, dataset_val, \n",
    "            learning_rate=config.LEARNING_RATE, \n",
    "            epochs=30, \n",
    "            layers='heads')"
   ]
  },
  {
   "cell_type": "code",
   "execution_count": null,
   "metadata": {},
   "outputs": [],
   "source": [
    "colors = ['red', 'blue', 'green', 'yellow', 'black']\n",
    "image = ['red', 'blue', 'black']"
   ]
  },
  {
   "cell_type": "code",
   "execution_count": null,
   "metadata": {},
   "outputs": [],
   "source": [
    "for i in image:\n",
    "    if i in colors:\n",
    "        print(i)"
   ]
  },
  {
   "cell_type": "code",
   "execution_count": null,
   "metadata": {},
   "outputs": [],
   "source": []
  },
  {
   "cell_type": "code",
   "execution_count": null,
   "metadata": {},
   "outputs": [],
   "source": []
  }
 ],
 "metadata": {
  "kernelspec": {
   "display_name": "Python 3",
   "language": "python",
   "name": "python3"
  },
  "language_info": {
   "codemirror_mode": {
    "name": "ipython",
    "version": 3
   },
   "file_extension": ".py",
   "mimetype": "text/x-python",
   "name": "python",
   "nbconvert_exporter": "python",
   "pygments_lexer": "ipython3",
   "version": "3.6.8"
  }
 },
 "nbformat": 4,
 "nbformat_minor": 2
}
